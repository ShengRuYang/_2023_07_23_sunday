{
 "cells": [
  {
   "cell_type": "code",
   "execution_count": 1,
   "metadata": {},
   "outputs": [
    {
     "name": "stdout",
     "output_type": "stream",
     "text": [
      "1\n",
      "2\n",
      "3\n",
      "4\n",
      "5\n"
     ]
    }
   ],
   "source": [
    "for i in range(1,6):\n",
    "    print(i)"
   ]
  },
  {
   "cell_type": "code",
   "execution_count": 2,
   "metadata": {},
   "outputs": [
    {
     "name": "stdout",
     "output_type": "stream",
     "text": [
      "1\n",
      "2\n",
      "3\n",
      "4\n",
      "5\n"
     ]
    }
   ],
   "source": [
    "#while,明確知道執行次數\n",
    "i = 1\n",
    "while i < 6:\n",
    "    print(i)\n",
    "    i += 1"
   ]
  },
  {
   "cell_type": "code",
   "execution_count": 3,
   "metadata": {},
   "outputs": [
    {
     "name": "stdout",
     "output_type": "stream",
     "text": [
      "恭喜!已經存夠了，存了7個月份,共存了31959元\n"
     ]
    }
   ],
   "source": [
    "#小明想要存錢買一輛機車,機車每輛30000元，他將每月存的錢輸入，當存款足夠買機車時，就顯示提示訊息告知。\n",
    "\n",
    "moto = 30000\n",
    "deposit = 0\n",
    "count = 0\n",
    "while deposit < moto: \n",
    "    count += 1  \n",
    "    month_value = int(input(f'請輸入第{count}月份的存款:'))\n",
    "    deposit += month_value\n",
    "\n",
    "print(f\"恭喜!已經存夠了，存了{count}個月份,共存了{deposit}元\")"
   ]
  },
  {
   "cell_type": "code",
   "execution_count": 4,
   "metadata": {},
   "outputs": [
    {
     "name": "stdout",
     "output_type": "stream",
     "text": [
      "Taipei\n",
      "Taiwan\n",
      "程式結束\n"
     ]
    }
   ],
   "source": [
    "stuff = input(\"請輸入小寫的英文字[按q會離開]:\")\n",
    "while stuff != \"q\":\n",
    "    print(stuff.capitalize())\n",
    "    stuff = input(\"請輸入小寫的英文字[按q會離開]:\")\n",
    "    \n",
    "print(\"程式結束\")"
   ]
  },
  {
   "cell_type": "code",
   "execution_count": 5,
   "metadata": {},
   "outputs": [
    {
     "name": "stdout",
     "output_type": "stream",
     "text": [
      "Taipei\n",
      "Taiwan\n",
      "程式結束\n"
     ]
    }
   ],
   "source": [
    "while True:\n",
    "    stuff = input(\"請輸入小寫的英文字[按q會離開]:\")\n",
    "    if stuff == \"q\":\n",
    "        break\n",
    "    print(stuff.capitalize())\n",
    "    \n",
    "    \n",
    "print(\"程式結束\")"
   ]
  },
  {
   "cell_type": "code",
   "execution_count": 6,
   "metadata": {},
   "outputs": [
    {
     "name": "stdout",
     "output_type": "stream",
     "text": [
      "正偶數值的加總是6\n",
      "程式結束\n"
     ]
    }
   ],
   "source": [
    "#請設計一個程式，讓使用者輸入數值，只有加總正偶數值，不加總正奇數值，如果輸入負數，結束程式。\n",
    "even_total = 0\n",
    "while True:\n",
    "    input_num = int(input(\"請輸入數值:\"))\n",
    "    if input_num < 0:\n",
    "        break\n",
    "    elif input_num % 2 == 1:\n",
    "        continue\n",
    "    else:\n",
    "        even_total += input_num\n",
    "\n",
    "print(f\"正偶數值的加總是{even_total}\")\n",
    "print(\"程式結束\")"
   ]
  },
  {
   "cell_type": "code",
   "execution_count": 7,
   "metadata": {},
   "outputs": [
    {
     "data": {
      "text/plain": [
       "4"
      ]
     },
     "execution_count": 7,
     "metadata": {},
     "output_type": "execute_result"
    }
   ],
   "source": [
    "import random\n",
    "random.randrange(5)"
   ]
  },
  {
   "cell_type": "code",
   "execution_count": 8,
   "metadata": {},
   "outputs": [
    {
     "data": {
      "text/plain": [
       "2"
      ]
     },
     "execution_count": 8,
     "metadata": {},
     "output_type": "execute_result"
    }
   ],
   "source": [
    "random.randrange(1,3)"
   ]
  },
  {
   "cell_type": "code",
   "execution_count": 9,
   "metadata": {},
   "outputs": [
    {
     "data": {
      "text/plain": [
       "9"
      ]
     },
     "execution_count": 9,
     "metadata": {},
     "output_type": "execute_result"
    }
   ],
   "source": [
    "random.randint(1,10)"
   ]
  },
  {
   "cell_type": "code",
   "execution_count": 13,
   "metadata": {},
   "outputs": [
    {
     "name": "stdout",
     "output_type": "stream",
     "text": [
      "=============猜數字遊戲==============\n",
      "\n",
      "\n",
      "請輸入提示範圍內的數字\n",
      "請輸入提示範圍內的數字\n",
      "猜錯了\n",
      "您已經猜了3次\n",
      "猜錯了\n",
      "您已經猜了4次\n",
      "猜錯了\n",
      "您已經猜了5次\n",
      "猜錯了\n",
      "您已經猜了6次\n",
      "猜錯了\n",
      "您已經猜了7次\n",
      "猜錯了\n",
      "您已經猜了8次\n",
      "猜錯了\n",
      "您已經猜了9次\n",
      "猜錯了\n",
      "您已經猜了10次\n",
      "賓果!猜對了, 答案是:7\n",
      "您猜了11次\n",
      "遊戲結束\n"
     ]
    }
   ],
   "source": [
    "import random\n",
    "min = 1\n",
    "max = 10\n",
    "target = random.randint(1,10)\n",
    "count = 0\n",
    "print(\"=============猜數字遊戲==============\\n\\n\")\n",
    "while True:\n",
    "    keyin = int(input(f\"猜數字範圍{min}~{max}:\"))\n",
    "    count += 1\n",
    "    if keyin >= min and keyin <= max:\n",
    "        if(keyin == target):\n",
    "            print(f\"賓果!猜對了, 答案是:{target}\")\n",
    "            print(f\"您猜了{count}次\")\n",
    "            break\n",
    "        else:\n",
    "            print(\"猜錯了\")\n",
    "            print(f\"您已經猜了{count}次\")          \n",
    "    else:\n",
    "        print(\"請輸入提示範圍內的數字\")\n",
    "\n",
    "print(\"遊戲結束\")"
   ]
  },
  {
   "cell_type": "code",
   "execution_count": 15,
   "metadata": {},
   "outputs": [
    {
     "name": "stdout",
     "output_type": "stream",
     "text": [
      "=============猜數字遊戲==============\n",
      "\n",
      "\n",
      "再小一點\n",
      "您已經猜了1次\n",
      "再大一點\n",
      "您已經猜了2次\n",
      "再小一點\n",
      "您已經猜了3次\n",
      "再小一點\n",
      "您已經猜了4次\n",
      "賓果!猜對了, 答案是:28\n",
      "您猜了5次\n",
      "遊戲結束\n"
     ]
    }
   ],
   "source": [
    "import random\n",
    "min = 1\n",
    "max = 100\n",
    "target = random.randint(min,max)\n",
    "count = 0\n",
    "print(\"=============猜數字遊戲==============\\n\\n\")\n",
    "while True:\n",
    "    keyin = int(input(f\"猜數字範範圍{min}~{max}:\"))\n",
    "    count += 1\n",
    "    if keyin >= min and keyin <= max:\n",
    "        if(keyin == target):\n",
    "            print(f\"賓果!猜對了, 答案是:{target}\")\n",
    "            print(f\"您猜了{count}次\")\n",
    "            break\n",
    "        elif keyin > target:\n",
    "            print(\"再小一點\")\n",
    "            max = keyin - 1\n",
    "            \n",
    "        elif keyin < target:\n",
    "            print(\"再大一點\")\n",
    "            min = keyin + 1\n",
    "            \n",
    "        print(f\"您已經猜了{count}次\")         \n",
    "    else:\n",
    "        print(\"請輸入提示範圍內的數字\")\n",
    "\n",
    "print(\"遊戲結束\")"
   ]
  },
  {
   "cell_type": "code",
   "execution_count": 16,
   "metadata": {},
   "outputs": [
    {
     "name": "stdout",
     "output_type": "stream",
     "text": [
      "遊戲結束\n"
     ]
    }
   ],
   "source": [
    "while True:\n",
    "    play_again = input(\"還要繼續嗎?(y,n)\")\n",
    "    if play_again == 'n':\n",
    "        break\n",
    "print(\"遊戲結束\")"
   ]
  }
 ],
 "metadata": {
  "kernelspec": {
   "display_name": "Python 3",
   "language": "python",
   "name": "python3"
  },
  "language_info": {
   "codemirror_mode": {
    "name": "ipython",
    "version": 3
   },
   "file_extension": ".py",
   "mimetype": "text/x-python",
   "name": "python",
   "nbconvert_exporter": "python",
   "pygments_lexer": "ipython3",
   "version": "3.11.4"
  },
  "orig_nbformat": 4
 },
 "nbformat": 4,
 "nbformat_minor": 2
}
