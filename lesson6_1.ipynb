{
 "cells": [
  {
   "cell_type": "code",
   "execution_count": 4,
   "metadata": {},
   "outputs": [
    {
     "name": "stdout",
     "output_type": "stream",
     "text": [
      "您的BMI:20.76\n",
      "提示:正常\n"
     ]
    }
   ],
   "source": [
    "height = eval(input(\"請輸入身高,單位為(公分):\"))\n",
    "weight = eval(input('請輸入體重,單位為(公斤):'))\n",
    "\n",
    "bmi = weight / (height/100) ** 2\n",
    "message = \"\"\n",
    "print(f\"您的BMI:{bmi:.2f}\")\n",
    "\n",
    "if bmi < 18.5:\n",
    "    message = \"過輕\"\n",
    "elif bmi < 24:\n",
    "    message = \"正常\"\n",
    "elif bmi < 27:\n",
    "    message = \"過重\"\n",
    "elif bmi < 30:\n",
    "    message = \"輕度肥胖\"\n",
    "elif bmi < 35:\n",
    "    message = \"中度肥胖\"\n",
    "else:\n",
    "    message = \"重度肥胖\"\n",
    "print(f\"提示:{message}\")"
   ]
  },
  {
   "cell_type": "code",
   "execution_count": 6,
   "metadata": {},
   "outputs": [
    {
     "name": "stdout",
     "output_type": "stream",
     "text": [
      "您的BMI:13.84\n",
      "提示:體重過輕\n"
     ]
    }
   ],
   "source": [
    "height = eval(input(\"請輸入身高,單位為(公分):\"))\n",
    "weight = eval(input('請輸入體重,單位為(公斤):'))\n",
    "\n",
    "bmi = weight / (height/100) ** 2\n",
    "message = \"\"\n",
    "print(f\"您的BMI:{bmi:.2f}\")\n",
    "\n",
    "if bmi >= 18.5 and bmi< 24:\n",
    "    message = \"正常\"\n",
    "elif bmi >= 24 and bmi < 27:\n",
    "    message = \"過重\"\n",
    "elif bmi >= 30 and bmi <35:\n",
    "    message = \"中度肥胖\"\n",
    "elif bmi >= 35:\n",
    "    message = \"重度肥胖\"\n",
    "elif bmi < 18.5:\n",
    "    message = \"體重過輕\"\n",
    "elif bmi >= 27 and bmi < 30:\n",
    "    message = \"輕度肥胖\"\n",
    "\n",
    "print(f\"提示:{message}\")"
   ]
  },
  {
   "cell_type": "code",
   "execution_count": 7,
   "metadata": {},
   "outputs": [
    {
     "name": "stdout",
     "output_type": "stream",
     "text": [
      "您的BMI:32.87\n",
      "提示:中度肥胖\n"
     ]
    }
   ],
   "source": [
    "height = eval(input(\"請輸入身高,單位為(公分):\"))\n",
    "weight = eval(input('請輸入體重,單位為(公斤):'))\n",
    "\n",
    "bmi = weight / (height/100) ** 2\n",
    "message = \"\"\n",
    "print(f\"您的BMI:{bmi:.2f}\")\n",
    "\n",
    "if 18.5 <= bmi < 24:\n",
    "    message = \"正常\"\n",
    "elif 24 <=  bmi < 27:\n",
    "    message = \"過重\"\n",
    "elif 30 <= bmi <35:\n",
    "    message = \"中度肥胖\"\n",
    "elif bmi >= 35:\n",
    "    message = \"重度肥胖\"\n",
    "elif bmi < 18.5:\n",
    "    message = \"體重過輕\"\n",
    "elif 27 <= bmi < 30:\n",
    "    message = \"輕度肥胖\"\n",
    "\n",
    "print(f\"提示:{message}\")"
   ]
  },
  {
   "cell_type": "code",
   "execution_count": 8,
   "metadata": {},
   "outputs": [
    {
     "name": "stdout",
     "output_type": "stream",
     "text": [
      "0\n",
      "1\n",
      "2\n",
      "3\n",
      "4\n"
     ]
    }
   ],
   "source": [
    "for x in range(5):\n",
    "    print(x)"
   ]
  },
  {
   "cell_type": "code",
   "execution_count": 9,
   "metadata": {},
   "outputs": [
    {
     "name": "stdout",
     "output_type": "stream",
     "text": [
      "15\n",
      "16\n",
      "17\n",
      "18\n",
      "19\n"
     ]
    }
   ],
   "source": [
    "for x in range(15,20):\n",
    "    print(x)"
   ]
  },
  {
   "cell_type": "code",
   "execution_count": 10,
   "metadata": {},
   "outputs": [
    {
     "name": "stdout",
     "output_type": "stream",
     "text": [
      "1\n",
      "3\n",
      "5\n",
      "7\n",
      "9\n"
     ]
    }
   ],
   "source": [
    "for x in range(1,10,2):\n",
    "    print(x)"
   ]
  },
  {
   "cell_type": "code",
   "execution_count": 11,
   "metadata": {},
   "outputs": [
    {
     "name": "stdout",
     "output_type": "stream",
     "text": [
      "1~100的加總是5050\n"
     ]
    }
   ],
   "source": [
    "#1~100的加總是多少\n",
    "total = 0\n",
    "for x in range(1,101):\n",
    "    total += x\n",
    "\n",
    "print(f\"1~100的加總是{total}\")"
   ]
  },
  {
   "cell_type": "code",
   "execution_count": 13,
   "metadata": {},
   "outputs": [
    {
     "name": "stdout",
     "output_type": "stream",
     "text": [
      "偶數總合是:2550\n",
      "奇數總合是:2500\n"
     ]
    }
   ],
   "source": [
    "#1~100內的偶數加總和奇數加總各是多少?\n",
    "oddTotal = 0\n",
    "evenTotal = 0\n",
    "for x in range(1,101):\n",
    "    if x % 2 == 0:\n",
    "        evenTotal += x\n",
    "    else:\n",
    "        oddTotal += x\n",
    "\n",
    "print(f\"偶數總合是:{evenTotal}\")\n",
    "print(f\"奇數總合是:{oddTotal}\")"
   ]
  },
  {
   "cell_type": "code",
   "execution_count": 14,
   "metadata": {},
   "outputs": [
    {
     "name": "stdout",
     "output_type": "stream",
     "text": [
      "54~2345偶數總合是:1,374,054\n",
      "54~2345奇數數總合是:1,375,200\n"
     ]
    }
   ],
   "source": [
    "start = int(input(\"請輸入起始值\"))\n",
    "end = int(input(\"請輸入最終值\"))\n",
    "\n",
    "oddTotal = 0\n",
    "evenTotal = 0\n",
    "for x in range(start,end+1):\n",
    "    if x % 2 == 0:\n",
    "        evenTotal += x\n",
    "    else:\n",
    "        oddTotal += x\n",
    "\n",
    "print(f\"{start}~{end}偶數總合是:{evenTotal:,}\")\n",
    "print(f\"{start}~{end}奇數數總合是:{oddTotal:,}\")"
   ]
  }
 ],
 "metadata": {
  "kernelspec": {
   "display_name": "Python 3",
   "language": "python",
   "name": "python3"
  },
  "language_info": {
   "codemirror_mode": {
    "name": "ipython",
    "version": 3
   },
   "file_extension": ".py",
   "mimetype": "text/x-python",
   "name": "python",
   "nbconvert_exporter": "python",
   "pygments_lexer": "ipython3",
   "version": "3.11.4"
  },
  "orig_nbformat": 4
 },
 "nbformat": 4,
 "nbformat_minor": 2
}
